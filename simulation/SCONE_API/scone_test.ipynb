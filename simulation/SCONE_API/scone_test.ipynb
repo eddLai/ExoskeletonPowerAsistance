{
 "cells": [
  {
   "cell_type": "markdown",
   "metadata": {},
   "source": [
    "### SCONE setup"
   ]
  },
  {
   "cell_type": "code",
   "execution_count": 2,
   "metadata": {},
   "outputs": [
    {
     "name": "stdout",
     "output_type": "stream",
     "text": [
      "sconepy found at /opt/scone/lib\n",
      "11:53:01 Successfully initialized OpenSim3 version 3.3-2021-01-28\n",
      "11:53:01 Loaded settings from /home/eddlai/.config/SCONE/scone-settings.zml\n",
      "SCONE Version 2.3.1.2903\n"
     ]
    }
   ],
   "source": [
    "from sconetools import sconepy\n",
    "sconepy.set_log_level(3)\n",
    "print('SCONE Version', sconepy.version())\n",
    "sconepy.set_array_dtype_float32()\n",
    "# sconepy is in the /bin"
   ]
  },
  {
   "cell_type": "markdown",
   "metadata": {},
   "source": [
    "### model_info"
   ]
  },
  {
   "cell_type": "code",
   "execution_count": 7,
   "metadata": {},
   "outputs": [
    {
     "name": "stdout",
     "output_type": "stream",
     "text": [
      "type(model): <class 'sconepy.Model'>\n",
      "model: <sconepy.Model object at 0x7a855876fb70>\n",
      "body ground mass=0.000 inertia=[ 0.000000 0.000000 0.000000 ]\n",
      "body pelvis mass=11.777 inertia=[ 0.102800 0.087100 0.057900 ]\n",
      "body femur_r mass=9.301 inertia=[ 0.133900 0.035100 0.141200 ]\n",
      "body tibia_r mass=3.708 inertia=[ 0.050400 0.005100 0.051100 ]\n",
      "body calcn_r mass=1.250 inertia=[ 0.001400 0.003900 0.004100 ]\n",
      "body femur_l mass=9.301 inertia=[ 0.133900 0.035100 0.141200 ]\n",
      "body tibia_l mass=3.708 inertia=[ 0.050400 0.005100 0.051100 ]\n",
      "body calcn_l mass=1.250 inertia=[ 0.001400 0.003900 0.004100 ]\n",
      "body torso mass=34.237 inertia=[ 1.474500 0.755500 1.431400 ]\n",
      "muscle hamstrings_r L=1.306 V=0.000 F=0.137\n",
      "muscle bifemsh_r L=0.891 V=0.000 F=0.009\n",
      "muscle glut_max_r L=1.055 V=0.000 F=0.016\n",
      "muscle iliopsoas_r L=0.547 V=0.000 F=0.002\n",
      "muscle rect_fem_r L=0.620 V=0.000 F=0.005\n",
      "muscle vasti_r L=1.106 V=0.000 F=0.028\n",
      "muscle gastroc_r L=1.145 V=0.000 F=0.037\n",
      "muscle soleus_r L=1.342 V=-0.000 F=0.171\n",
      "muscle tib_ant_r L=0.606 V=0.000 F=0.005\n",
      "muscle hamstrings_l L=1.306 V=0.000 F=0.137\n",
      "muscle bifemsh_l L=0.891 V=0.000 F=0.009\n",
      "muscle glut_max_l L=1.055 V=0.000 F=0.016\n",
      "muscle iliopsoas_l L=0.547 V=0.000 F=0.002\n",
      "muscle rect_fem_l L=0.620 V=0.000 F=0.005\n",
      "muscle vasti_l L=1.106 V=0.000 F=0.028\n",
      "muscle gastroc_l L=1.145 V=0.000 F=0.037\n",
      "muscle soleus_l L=1.342 V=-0.000 F=0.171\n",
      "muscle tib_ant_l L=0.606 V=0.000 F=0.005\n"
     ]
    }
   ],
   "source": [
    "model = sconepy.load_model('SCONE_data/H0918_osim3.scone')\n",
    "print(\"type(model):\", type(model)), print(\"model:\", model)\n",
    "for bod in model.bodies():\n",
    "    # if bod.name().startswith('t'): # only items starting with 't' to avoid clutter\n",
    "    print(f\"body {bod.name()} mass={bod.mass():.3f} inertia={bod.inertia_diag()}\")\n",
    "for mus in model.muscles():\n",
    "    # if mus.name().startswith('g'): # only items starting with 'g' to avoid clutter\n",
    "    print(f\"muscle {mus.name()} L={mus.fiber_length_norm():.3f} V={mus.fiber_velocity_norm():.3f} F={mus.force_norm():.3f}\")"
   ]
  },
  {
   "cell_type": "code",
   "execution_count": 36,
   "metadata": {},
   "outputs": [
    {
     "name": "stdout",
     "output_type": "stream",
     "text": [
      "Aborting simulation at t=1.390 com_y=0.2934\n"
     ]
    }
   ],
   "source": [
    "import numpy as np\n",
    "import random\n",
    "import time\n",
    "random_seed = 1\n",
    "rng = np.random.default_rng(random_seed)\n",
    "\n",
    "time_flag = []\n",
    "time_flag_in_sim = []\n",
    "max_time = 3.0\n",
    "store_data = True\n",
    "time_flag.append(time.perf_counter())\n",
    "\n",
    "min_com_height=0.3\n",
    "\n",
    "model = sconepy.load_model('SCONE_data/H0918_osim3.scone')\n",
    "model.reset()\n",
    "model.set_store_data(True)\n",
    "muscle_activations = 0.1 + 0.4 * rng.random((len(model.muscles())))\n",
    "model.init_muscle_activations(muscle_activations)\n",
    "time_flag.append(time.perf_counter())\n",
    "\n",
    "dof_positions = model.dof_position_array()\n",
    "dof_positions += 0.1 * rng.random(len(dof_positions)) - 0.05\n",
    "model.set_dof_positions(dof_positions)\n",
    "time_flag.append(time.perf_counter())\n",
    "\n",
    "# UPDATE others elements, such as muscles and states\n",
    "model.init_state_from_dofs()\n",
    "time_flag.append(time.perf_counter())\n",
    "time_flag_in_sim.append(time.perf_counter())\n",
    "# [START, loop1_muscle->actuator, loop2_internal loop]\n",
    "\n",
    "for t in np.arange(0, max_time, 0.01):\n",
    "    mus_in = model.muscle_force_array()\n",
    "    mus_in += model.muscle_fiber_length_array() - 1\n",
    "    mus_in += 0.2 * model.muscle_fiber_velocity_array()\n",
    "    model.set_actuator_inputs(mus_in)\n",
    "    time_flag_in_sim.append(time.perf_counter())\n",
    "\n",
    "    # Since there are many internal iteration in the simulation,\n",
    "    # So we need this command to update the model\n",
    "    # the simulation step size is Varaiable\n",
    "    # .scone set the accuracy and effect the step size\n",
    "    model.advance_simulation_to(t)\n",
    "    time_flag_in_sim.append(time.perf_counter())\n",
    "\n",
    "    # the condition to abort the simulation\n",
    "    com_y = model.com_pos().y\n",
    "    if com_y < min_com_height:\n",
    "        print(f'Aborting simulation at t={model.time():.3f} com_y={com_y:.4f}')\n",
    "        break\n",
    "\n",
    "time_flag.append(time.perf_counter())"
   ]
  },
  {
   "cell_type": "code",
   "execution_count": 40,
   "metadata": {},
   "outputs": [],
   "source": [
    "import pandas as pd\n",
    "time_flag_diffs = np.diff(time_flag)\n",
    "time_flag_in_sim_diffs = np.diff(time_flag_in_sim)\n",
    "\n",
    "titles_time_flag = [\n",
    "    \"1. Model Loading and Muscle Initialization Time\",\n",
    "    \"2. Model DOF set\",\n",
    "    \"3. init_state_from_dofs\",\n",
    "    \"4. Model simulation\"\n",
    "]\n",
    "\n",
    "df = pd.DataFrame({\n",
    "    \"Time Flag\": time_flag[:-1], \n",
    "    \"Time Flag Diffs\": time_flag_diffs,\n",
    "    \"Titles\": titles_time_flag\n",
    "})\n",
    "\n",
    "titles_time_flag_in_sim = [\"1. Start Simulation\"] + [\n",
    "    f\"{int(i/2+1)}_2. loop1_muscle->actuator\" if i % 2 != 0 else f\"{int(i/2)}_3. loop2_internal loop\"\n",
    "    for i in range(1, len(time_flag_in_sim_diffs))\n",
    "]\n",
    "\n",
    "df_sim = pd.DataFrame({\n",
    "    \"Time Flag In Sim\": time_flag_in_sim[:-1],\n",
    "    \"Time Flag In Sim Diffs\": time_flag_in_sim_diffs,\n",
    "    \"Titles\": titles_time_flag_in_sim\n",
    "})"
   ]
  },
  {
   "cell_type": "code",
   "execution_count": 11,
   "metadata": {},
   "outputs": [
    {
     "name": "stdout",
     "output_type": "stream",
     "text": [
      "Results written to d:\\ExoskeletonPowerAsistance\\simulation\\SCONE_API/sconepy_example_H0918v3/H0918v3_1_0.000_-0.446. Please use SCONE Studio to replay the .sto file.\n"
     ]
    }
   ],
   "source": [
    "import os\n",
    "if store_data:\n",
    "    dirname = 'sconepy_example_' + model.name()\n",
    "    filename = model.name() + f'_{random_seed}_{model.time():0.3f}_{model.com_pos().y:0.3f}'\n",
    "    model.write_results(dirname, filename)\n",
    "    current_directory = os.getcwd()\n",
    "    print(f'Results written to {current_directory}/{dirname}/{filename}. Please use SCONE Studio to replay the .sto file.', flush=True)"
   ]
  }
 ],
 "metadata": {
  "kernelspec": {
   "display_name": "exo",
   "language": "python",
   "name": "python3"
  },
  "language_info": {
   "codemirror_mode": {
    "name": "ipython",
    "version": 3
   },
   "file_extension": ".py",
   "mimetype": "text/x-python",
   "name": "python",
   "nbconvert_exporter": "python",
   "pygments_lexer": "ipython3",
   "version": "3.9.20"
  }
 },
 "nbformat": 4,
 "nbformat_minor": 2
}
