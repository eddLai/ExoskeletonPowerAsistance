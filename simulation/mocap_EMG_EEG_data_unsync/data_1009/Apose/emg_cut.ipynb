{
 "cells": [
  {
   "cell_type": "code",
   "execution_count": null,
   "metadata": {},
   "outputs": [],
   "source": [
    "import pandas as pd\n",
    "\n",
    "file_path = 'D:/data_1009/path1_01/EMG/EMG_path1_01_155236-S.csv'\n",
    "data = pd.read_csv(file_path, skiprows=10)\n",
    "\n",
    "event_column = 'Event Id'\n",
    "\n",
    "non_missing_event_data = data[data[event_column].notnull()]\n",
    "\n",
    "first_row = non_missing_event_data.index[0]\n",
    "last_row = non_missing_event_data.index[-1]\n",
    "\n",
    "subset_data = data.loc[first_row:last_row]\n",
    "\n",
    "subset_data_without_first_two_columns = subset_data.iloc[:, 2:]\n",
    "subset_data_without_first_two_columns.to_csv('path1_01/EMG/sorted_subset_data.csv', index=False)\n",
    "\n",
    "print(\"已擷取並根據時間欄位重新排序資料，儲存至 sorted_subset_data.csv\")"
   ]
  },
  {
   "cell_type": "code",
   "execution_count": null,
   "metadata": {},
   "outputs": [],
   "source": []
  }
 ],
 "metadata": {
  "kernelspec": {
   "display_name": "test",
   "language": "python",
   "name": "python3"
  },
  "language_info": {
   "name": "python",
   "version": "3.8.13"
  }
 },
 "nbformat": 4,
 "nbformat_minor": 2
}
