{
 "cells": [
  {
   "cell_type": "markdown",
   "metadata": {},
   "source": [
    "目前幫模型加上來自Halpe26的marker時，會遇到模型無法轉身的狀況(模型面向+x，IK要往-x走，但模型轉不了身，變成倒退走)，暫時直接修改trc檔，變成往+x行走"
   ]
  },
  {
   "cell_type": "code",
   "execution_count": null,
   "metadata": {},
   "outputs": [],
   "source": [
    "def modify_trc_file(input_file, output_file):\n",
    "    with open(input_file, 'r') as infile, open(output_file, 'w') as outfile:\n",
    "        header = []\n",
    "\n",
    "        for _ in range(5):\n",
    "            line = infile.readline()\n",
    "            header.append(line)\n",
    "            outfile.write(line)\n",
    "        \n",
    "        for line in infile:\n",
    "            columns = line.strip().split('\\t')\n",
    "            \n",
    "            for i in range(2, len(columns)): \n",
    "                try:\n",
    "                    value = float(columns[i])\n",
    "                    if (i - 2) % 3 == 0 or (i - 2) % 3 == 2:\n",
    "                        columns[i] = str(value * -1)\n",
    "                except ValueError:\n",
    "                    pass\n",
    "            \n",
    "            outfile.write('\\t'.join(columns) + '\\n')\n",
    "\n",
    "input_trc = 'data/Empty_project_filt_0-30 (1).trc'\n",
    "output_trc = input_trc.replace('data/', 'output/').replace('.trc', '_modified.trc')\n",
    "\n",
    "modify_trc_file(input_trc, output_trc)"
   ]
  }
 ],
 "metadata": {
  "language_info": {
   "name": "python"
  }
 },
 "nbformat": 4,
 "nbformat_minor": 2
}
