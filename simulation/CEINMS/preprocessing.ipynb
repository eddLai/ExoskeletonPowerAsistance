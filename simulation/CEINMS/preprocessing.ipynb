{
 "cells": [
  {
   "cell_type": "code",
   "execution_count": 20,
   "metadata": {},
   "outputs": [],
   "source": [
    "import numpy as np\n",
    "from scipy.signal import butter, filtfilt, iirnotch, hilbert\n",
    "import scipy.signal as signal\n",
    "import pandas as pd\n",
    "import glob\n",
    "import os\n",
    "from scipy.io import loadmat\n",
    "import matplotlib.pyplot as plt"
   ]
  },
  {
   "cell_type": "code",
   "execution_count": 21,
   "metadata": {},
   "outputs": [],
   "source": [
    "class LowPassFilter:\n",
    "    def __init__(self, order=2, fc_bp=4, freq=1000):\n",
    "        nyq = 0.5 * freq\n",
    "        low = fc_bp / nyq\n",
    "        self.b, self.a = butter(order, low, btype='lowpass', output='ba')\n",
    "    \n",
    "    def filtfilt(self, x):\n",
    "        return filtfilt(self.b, self.a, x)\n",
    "\n",
    "class HighPassFilter:\n",
    "    def __init__(self, order=2, fc_bp=30, freq=1000):\n",
    "        nyq = 0.5 * freq\n",
    "        high = fc_bp / nyq\n",
    "        self.b, self.a = butter(order, high, btype='highpass', output='ba')\n",
    "    \n",
    "    def filtfilt(self, x):\n",
    "        return filtfilt(self.b, self.a, x)\n",
    "    \n",
    "class NotchFilter:\n",
    "    def __init__(self, f0=60, freq=1000):\n",
    "        Q = 30.0  # Quality factor\n",
    "        self.b, self.a = iirnotch(f0, Q, freq)\n",
    "    \n",
    "    def filtfilt(self, x):\n",
    "        return filtfilt(self.b, self.a, x)"
   ]
  },
  {
   "cell_type": "code",
   "execution_count": 22,
   "metadata": {},
   "outputs": [],
   "source": [
    "class EMGProcessor:\n",
    "    def __init__(self, sampling_rate=1000, highpass_order=4, highpass_fc=30,\n",
    "                 lowpass_order=4, lowpass_fc=6, notch_f0=60):\n",
    "        self.h_filter = HighPassFilter(order=highpass_order, fc_bp=highpass_fc, freq=sampling_rate)\n",
    "        self.l_filter = LowPassFilter(order=lowpass_order, fc_bp=lowpass_fc, freq=sampling_rate)\n",
    "        # self.n_filter = NotchFilter(f0=notch_f0, freq=sampling_rate)\n",
    "\n",
    "    def process(self, data):\n",
    "        filted_emg = self.h_filter.filtfilt(data)\n",
    "        rect_emg = np.abs(filted_emg)\n",
    "        envelope = self.l_filter.filtfilt(rect_emg)\n",
    "        return envelope\n",
    "    \n",
    "    def normalize_data(self, data):\n",
    "        min_val = np.min(data)\n",
    "        max_val = np.max(data)\n",
    "        if max_val == min_val:\n",
    "            return data\n",
    "        return (data - min_val) / (max_val - min_val)"
   ]
  },
  {
   "cell_type": "code",
   "execution_count": 23,
   "metadata": {},
   "outputs": [
    {
     "name": "stdout",
     "output_type": "stream",
     "text": [
      "[[-4426.43 -1751.92  -748.94 ... -1810.84   -97.54  -709.96]\n",
      " [-4424.5  -1771.42  -745.33 ... -1811.     -95.66  -710.11]\n",
      " [-4423.54 -1810.57  -744.3  ... -1811.26   -94.37  -709.88]\n",
      " ...\n",
      " [-4476.3  -1371.54  -776.09 ... -1594.37   -40.48  -853.51]\n",
      " [-4482.13 -1356.6   -775.54 ... -1594.98   -42.17  -852.5 ]\n",
      " [-4488.04 -1343.23  -774.66 ... -1594.15   -35.25  -849.23]]\n"
     ]
    }
   ],
   "source": [
    "filename = 'data/path1_01/sorted_subset_data.csv'\n",
    "data = np.loadtxt(filename, delimiter=',', skiprows=1, usecols=range(8))\n",
    "print(data)"
   ]
  },
  {
   "cell_type": "code",
   "execution_count": 24,
   "metadata": {},
   "outputs": [
    {
     "data": {
      "text/plain": [
       "(19375, 8)"
      ]
     },
     "execution_count": 24,
     "metadata": {},
     "output_type": "execute_result"
    }
   ],
   "source": [
    "data.shape"
   ]
  },
  {
   "cell_type": "code",
   "execution_count": 62,
   "metadata": {},
   "outputs": [
    {
     "name": "stdout",
     "output_type": "stream",
     "text": [
      "(8, 582)\n"
     ]
    }
   ],
   "source": [
    "data = data.T\n",
    "\n",
    "processor = EMGProcessor()\n",
    "for i in range(8):\n",
    "    data[i] = processor.process(data[i])\n",
    "    data[i] = processor.normalize_data(data[i])\n",
    "\n",
    "fs = 1000  # 原始採樣率為 1000 Hz\n",
    "target_fs = 30  # 目標採樣率為 30 Hz\n",
    "\n",
    "# 計算重採樣的比例\n",
    "resample_ratio = target_fs / float(fs)\n",
    "new_length = int(np.ceil(data.shape[1] * resample_ratio))\n",
    "\n",
    "\n",
    "# 為每個欄位進行重新採樣，結果轉置為 (8, new_length)\n",
    "resampled_data = np.zeros((data.shape[0], new_length))\n",
    "\n",
    "for i in range(data.shape[0]):\n",
    "    # 對每個通道進行重新採樣\n",
    "    resampled_data[i, :] = signal.resample(data[:, i], new_length)\n",
    "\n",
    "print(resampled_data.shape)"
   ]
  },
  {
   "cell_type": "code",
   "execution_count": 63,
   "metadata": {},
   "outputs": [
    {
     "name": "stdout",
     "output_type": "stream",
     "text": [
      "數據已保存到 resampled_data.sto\n"
     ]
    }
   ],
   "source": [
    "resampled_data = resampled_data.T\n",
    "\n",
    "# 標籤\n",
    "labels = [\"LGL\", \"RGL\", \"LTA\", \"RTA\", \"LBF\", \"RBF\", \"LRF\", \"RRF\"]\n",
    "\n",
    "# 輸出檔案名稱\n",
    "output_filename = 'resampled_data.sto'\n",
    "\n",
    "# 寫入 .sto 檔案\n",
    "with open(output_filename, 'w') as f:\n",
    "    # 寫入標頭\n",
    "    f.write(\"Coordinates\\n\")\n",
    "    f.write(\"version=1\\n\")\n",
    "    f.write(\"nRows={}\\n\".format(resampled_data.shape[0]))\n",
    "    f.write(\"nColumns={}\\n\".format(resampled_data.shape[1] + 1))  # 加上時間列\n",
    "    f.write(\"inDegrees=no\\n\")\n",
    "    f.write(\"endheader\\n\")\n",
    "    \n",
    "    # 寫入標籤（時間和各個數據列標籤）\n",
    "    f.write(\"time\\t\" + \"\\t\".join(labels) + \"\\n\")\n",
    "    \n",
    "    # 寫入數據部分\n",
    "    for i, row in enumerate(resampled_data):\n",
    "        time = i / 30.0  # 假設 30 Hz 的目標頻率，生成時間列\n",
    "        row_str = \"\\t\".join([f\"{x:.6f}\" for x in row])\n",
    "        f.write(f\"{time:.6f}\\t{row_str}\\n\")\n",
    "\n",
    "print(f\"數據已保存到 {output_filename}\")"
   ]
  }
 ],
 "metadata": {
  "kernelspec": {
   "display_name": "test",
   "language": "python",
   "name": "python3"
  },
  "language_info": {
   "codemirror_mode": {
    "name": "ipython",
    "version": 3
   },
   "file_extension": ".py",
   "mimetype": "text/x-python",
   "name": "python",
   "nbconvert_exporter": "python",
   "pygments_lexer": "ipython3",
   "version": "3.8.13"
  }
 },
 "nbformat": 4,
 "nbformat_minor": 2
}
