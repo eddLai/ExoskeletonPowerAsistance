{
 "cells": [
  {
   "cell_type": "code",
   "execution_count": 1,
   "metadata": {},
   "outputs": [],
   "source": [
    "def filter_sto_by_time(input_file, output_file, start_time=35.003, end_time=50.005):\n",
    "    with open(input_file, 'r') as infile, open(output_file, 'w') as outfile:\n",
    "        header_complete = False\n",
    "        for line in infile:\n",
    "            if not header_complete:\n",
    "                # Write header lines unchanged\n",
    "                outfile.write(line)\n",
    "                if \"endheader\" in line:\n",
    "                    header_complete = True\n",
    "            else:\n",
    "                # Process the data lines\n",
    "                values = line.strip().split(\"\\t\")\n",
    "                try:\n",
    "                    # Assuming the first column is time, convert it to float\n",
    "                    time_value = float(values[0])\n",
    "                    # Write the line only if the time is within the specified range\n",
    "                    if start_time <= time_value <= end_time:\n",
    "                        outfile.write(line)\n",
    "                except ValueError:\n",
    "                    pass  # Skip lines that do not have a valid time value\n",
    "\n",
    "# 使用範例\n",
    "input_file = 'data/emg_data_with_labels.sto'  # 你的 .sto 文件路徑\n",
    "output_file = 'output/emg_filtered.sto'  # 輸出的 .sto 文件路徑\n",
    "filter_sto_by_time(input_file, output_file)"
   ]
  }
 ],
 "metadata": {
  "kernelspec": {
   "display_name": "test",
   "language": "python",
   "name": "python3"
  },
  "language_info": {
   "codemirror_mode": {
    "name": "ipython",
    "version": 3
   },
   "file_extension": ".py",
   "mimetype": "text/x-python",
   "name": "python",
   "nbconvert_exporter": "python",
   "pygments_lexer": "ipython3",
   "version": "3.8.13"
  }
 },
 "nbformat": 4,
 "nbformat_minor": 2
}
